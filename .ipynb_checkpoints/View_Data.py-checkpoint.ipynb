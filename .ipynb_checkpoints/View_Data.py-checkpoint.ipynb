{
 "cells": [
  {
   "cell_type": "code",
   "execution_count": 3,
   "metadata": {},
   "outputs": [
    {
     "name": "stdout",
     "output_type": "stream",
     "text": [
      "         game_id  useful_num  funny_num          user_name  games_owned  \\\n",
      "0      1001010.0           0          0         laiteweirl           23   \n",
      "1      1001060.0           6          0           dghylkop          148   \n",
      "2      1001060.0           3          2           s7527881          107   \n",
      "3      1001060.0           0          0  76561198065719254           26   \n",
      "4      1001060.0           1          0  76561198019401006          519   \n",
      "...          ...         ...        ...                ...          ...   \n",
      "17128   998940.0           0          0  76561198268911885           54   \n",
      "17129   998940.0           0          0  76561198202927601          286   \n",
      "17130   998940.0           0          0  76561198447888276            6   \n",
      "17131   998940.0           0          0  76561198083648808           23   \n",
      "17132   999260.0           4          1  76561198366964396           17   \n",
      "\n",
      "       reviews_written  recommended  hours_played        review_date  \\\n",
      "0                    3            1           9.8       2 July, 2019   \n",
      "1                   23           -1           0.0       9 July, 2019   \n",
      "2                   16           -1           0.0       7 July, 2019   \n",
      "3                    7           -1           0.0       7 July, 2019   \n",
      "4                   29            1           0.0       6 July, 2019   \n",
      "...                ...          ...           ...                ...   \n",
      "17128                6            1           7.6   1 December, 2019   \n",
      "17129                7            1          21.5  30 November, 2019   \n",
      "17130                2            1          18.2  30 November, 2019   \n",
      "17131                3            1          12.0  29 November, 2019   \n",
      "17132                3            1           0.0  19 December, 2018   \n",
      "\n",
      "                                                    text  \n",
      "0      更新評論1. 劇情還行 謎題也還不錯 還做了不少結局 讓推理錯誤的人也都有機會可以打出結局 ...  \n",
      "1      除了系統面的完善，這是一款充滿農場氣味的 RPG DLC 粉絲包。最新釋出的 DLC 完善了...  \n",
      "2      ●【奪回牆外模式無法執行】與NPC對話後→出任務→讀取畫面→黑畫面→遊戲自動跳掉●【第三季劇...  \n",
      "3                                      把牆外模式會死當的bug修好再來改  \n",
      "4      新增的對人機動裝置還不錯巨人弱點角度不實用,花時間調整對到角度的一刀,足夠我不對角度砍上兩三...  \n",
      "...                                                  ...  \n",
      "17128  一款很好玩的選項類型遊戲！角色帶入感強！雖然結局都不是我期望的，但是也不失為一款好遊戲！想入...  \n",
      "17129                               只要你喜欢庄晓曼，我们就是异父异母的兄弟  \n",
      "17130                                                666  \n",
      "17131                                    武藤純子>莊曉曼>方敏>陸望舒  \n",
      "17132                              你给我喜欢的武器---唐横刀  我就给你钱  \n",
      "\n",
      "[17133 rows x 10 columns]\n"
     ]
    }
   ],
   "source": [
    "import pandas as pd \n",
    "\n",
    "temp_data = pd.read_csv(\"./data/reviews.csv\", encoding='utf-8')\n",
    "\n",
    "print(temp_data)"
   ]
  },
  {
   "cell_type": "code",
   "execution_count": 4,
   "metadata": {},
   "outputs": [
    {
     "data": {
      "text/plain": [
       "['games.csv', 'pages']"
      ]
     },
     "execution_count": 4,
     "metadata": {},
     "output_type": "execute_result"
    }
   ],
   "source": [
    "import os\n",
    "\n",
    "os.listdir('./data/')"
   ]
  }
 ],
 "metadata": {
  "kernelspec": {
   "display_name": "Python 3",
   "language": "python",
   "name": "python3"
  },
  "language_info": {
   "codemirror_mode": {
    "name": "ipython",
    "version": 3
   },
   "file_extension": ".py",
   "mimetype": "text/x-python",
   "name": "python",
   "nbconvert_exporter": "python",
   "pygments_lexer": "ipython3",
   "version": "3.7.4"
  }
 },
 "nbformat": 4,
 "nbformat_minor": 2
}
