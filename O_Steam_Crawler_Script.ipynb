{
 "cells": [
  {
   "cell_type": "code",
   "execution_count": 17,
   "metadata": {},
   "outputs": [],
   "source": [
    "# Import packages needed\n",
    "from selenium import webdriver\n",
    "import pandas as pd\n",
    "import requests"
   ]
  },
  {
   "cell_type": "code",
   "execution_count": 21,
   "metadata": {},
   "outputs": [],
   "source": [
    "# Initiate firefox web driver\n",
    "driver = webdriver.Firefox(executable_path='./geckodriver.exe')"
   ]
  },
  {
   "cell_type": "code",
   "execution_count": 22,
   "metadata": {},
   "outputs": [],
   "source": [
    "i = 1\n",
    "url = 'https://steamcommunity.com/app/570/homecontent/?userreviewsoffset=' + str(10 * (i - 1)) + '&p=' + str(\n",
    "        i) + '&workshopitemspage=' + str(i) + '&readytouseitemspage=' + str(i) + '&mtxitemspage=' + str(\n",
    "        i) + '&itemspage=' + str(i) + '&screenshotspage=' + str(i) + '&videospage=' + str(i) + '&artpage=' + str(\n",
    "        i) + '&allguidepage=' + str(i) + '&webguidepage=' + str(i) + '&integratedguidepage=' + str(\n",
    "        i) + '&discussionspage=' + str(\n",
    "        i) + '&numperpage=10&browsefilter=toprated&browsefilter=toprated&appid=433850&appHubSubSection=10&l=schinese&filterLanguage=default&searchText=&forceanon=1'\n",
    "driver.get(url)"
   ]
  },
  {
   "cell_type": "code",
   "execution_count": null,
   "metadata": {},
   "outputs": [],
   "source": [
    "# 'https://store.steampowered.com/app/813780/': Age of Empire\n",
    "# 813030~ \n",
    "#web_link = 'https://store.steampowered.com/app/813780/'\n",
    "r = requests.get('https://store.steampowered.com/app/813000/')\n",
    "print(str(r.status_code == \"200\")\n",
    "html_text = r.text # strip text from web, html file\n",
    "# Beautiful Soup Process\n",
    "soup = BeautifulSoup(html_text)\n",
    "# crawl href data\n",
    "html = []\n",
    "results = soup.select(\"title\")\n",
    "print(type(results))\n",
    "for i, j in enumerate(results):\n",
    "    if i == 0:\n",
    "        if str(j) == \"<title>Welcome to Steam</title>\":\n",
    "            print(\"This is the welcome page, skip.\")"
   ]
  },
  {
   "cell_type": "code",
   "execution_count": null,
   "metadata": {},
   "outputs": [],
   "source": [
    "review_link = 'reviews/'\n",
    "whole_link = web_link + review_link\n",
    "\n",
    "driver.get(whole_link)\n",
    "#driver.find_elements_by_xpath(\"/html/body/div[1]/div[7]/div[4]/div[1]/div[2]/div[6]/div/div/div[16]/div/div[4]/a\")"
   ]
  },
  {
   "cell_type": "code",
   "execution_count": null,
   "metadata": {},
   "outputs": [],
   "source": [
    "driver.get('https://store.steampowered.com/app/813780/Age_of_Empires_II_Definitive_Edition/')\n",
    "\n",
    "# \".review_box .rightcol .content\"\n",
    "elem = driver.find_elements_by_css_selector(\".review_box .rightcol\")\n",
    "\n",
    "content_list = []\n",
    "for i, j in enumerate(elem):\n",
    "    elem_text = elem[i].text\n",
    "    content_list.append(elem_text)\n",
    "    print(elem_text)\n",
    "\n",
    "for i, j in enumerate(content_list):\n",
    "    print(j)"
   ]
  },
  {
   "cell_type": "markdown",
   "metadata": {},
   "source": [
    "# Crawl Review Test"
   ]
  },
  {
   "cell_type": "code",
   "execution_count": 14,
   "metadata": {},
   "outputs": [],
   "source": [
    "import requests\n",
    "from bs4 import BeautifulSoup\n",
    "\n",
    "# url = 'https://steamcommunity.com/app/570/reviews/?browsefilter=toprated&snr=15_reviews&filterLanguage=tchinese'\n",
    "url = \"https://steamcommunity.com/app/570/reviews/?browsefilter=toprated&snr=1_5_100010_&filterLanguage=tchinese#scrollTop=1\"\n",
    "html = requests.get(url).text\n",
    "soup = BeautifulSoup(html, 'html.parser')\n",
    "reviews = soup.find_all('div', {'class': 'apphub_Card'})\n",
    "for review in reviews:\n",
    "    nick = review.find('div', {'class': 'apphub_CardContentAuthorName'})\n",
    "    title = review.find('div', {'class': 'title'}).text\n",
    "    hour = review.find('div', {'class': 'hours'}).text.split(' ')[0]\n",
    "    link = nick.find('a').attrs['href']\n",
    "    comment = review.find('div', {'class': 'apphub_CardTextContent'}).text\n",
    "    comment_date = comment.split('\\n')[1].strip('\\t')\n",
    "    comment_text = comment.split('\\n')[2].strip('\\t')\n",
    "    for text in comment_text:\n",
    "            if ('\\u4e00' <= text <= '\\u9fa5'):\n",
    "                print(nick.text, title, hour, link, comment_date)\n",
    "                print(comment_text)\n",
    "                break"
   ]
  },
  {
   "cell_type": "code",
   "execution_count": 36,
   "metadata": {},
   "outputs": [
    {
     "name": "stdout",
     "output_type": "stream",
     "text": [
      "HelloDarkness 推薦 總時數 https://steamcommunity.com/id/kevinzhuo/ 張貼於：2015 年 4 月 21 日\r\n",
      "盡情的在DOTA中和全世界玩家進行刺激的5V5捉對廝殺吧!!上手難度雖難不過熟悉後更能體會箇中滋味大推RRR\n"
     ]
    }
   ],
   "source": [
    "nick_list = []\n",
    "\n",
    "for i in range(1, 10):\n",
    "    url = 'https://steamcommunity.com/app/570/homecontent/?userreviewsoffset=' + str(10 * (i - 1)) + '&p=' + str(i) + '&workshopitemspage=' + str(i) + '&readytouseitemspage=' + str(i) + '&mtxitemspage=' + str(i) + '&itemspage=' + str(i) + '&screenshotspage=' + str(i) +'&videospage=' + str(i) + '&artpage=' + str(i) + '&allguidepage=' + str(i) + '&webguidepage=' + str(i) + '&integratedguidepage=' + str(i) + '&discussionspage=' + str(i) + '&numperpage=10&browsefilter=toprated&browsefilter=toprated&l=tchinese&appHubSubSection=10&filterLanguage=tchinese&searchText=&forceanon=1'\n",
    "    html = requests.get(url).text\n",
    "    soup = BeautifulSoup(html, 'html.parser')\n",
    "    reviews = soup.find_all('div', {'class': 'apphub_Card'})\n",
    "    for review in reviews:\n",
    "        nick = review.find('div', {'class': 'apphub_CardContentAuthorName'})\n",
    "        title = review.find('div', {'class': 'title'}).text\n",
    "        hour = review.find('div', {'class': 'hours'}).text.split(' ')[0]\n",
    "        link = nick.find('a').attrs['href']\n",
    "        comment = review.find('div', {'class': 'apphub_CardTextContent'}).text\n",
    "        comment_date = comment.split('\\n')[1].strip('\\t')\n",
    "        comment_text = comment.split('\\n')[2].strip('\\t')\n",
    "        # test code\n",
    "        if nick not in nick_list:\n",
    "            nick_list.append(nick)\n",
    "            for text in comment_text:\n",
    "                if ('\\u4e00' <= text <= '\\u9fa5'):\n",
    "                    print(nick.text, title, hour, link, comment_date)\n",
    "                    print(comment_text)\n",
    "                    break"
   ]
  },
  {
   "cell_type": "code",
   "execution_count": null,
   "metadata": {},
   "outputs": [],
   "source": []
  }
 ],
 "metadata": {
  "kernelspec": {
   "display_name": "Crawler",
   "language": "python",
   "name": "crawler"
  },
  "language_info": {
   "codemirror_mode": {
    "name": "ipython",
    "version": 3
   },
   "file_extension": ".py",
   "mimetype": "text/x-python",
   "name": "python",
   "nbconvert_exporter": "python",
   "pygments_lexer": "ipython3",
   "version": "3.7.3"
  }
 },
 "nbformat": 4,
 "nbformat_minor": 2
}
